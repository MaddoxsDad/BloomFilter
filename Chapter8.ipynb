{
  "nbformat": 4,
  "nbformat_minor": 0,
  "metadata": {
    "colab": {
      "provenance": [],
      "authorship_tag": "ABX9TyPgmquoX9tnH9oOB+qbt3l/",
      "include_colab_link": true
    },
    "kernelspec": {
      "name": "python3",
      "display_name": "Python 3"
    },
    "language_info": {
      "name": "python"
    }
  },
  "cells": [
    {
      "cell_type": "markdown",
      "metadata": {
        "id": "view-in-github",
        "colab_type": "text"
      },
      "source": [
        "<a href=\"https://colab.research.google.com/github/MaddoxsDad/BloomFilter/blob/main/Chapter8.ipynb\" target=\"_parent\"><img src=\"https://colab.research.google.com/assets/colab-badge.svg\" alt=\"Open In Colab\"/></a>"
      ]
    },
    {
      "cell_type": "code",
      "execution_count": 1,
      "metadata": {
        "colab": {
          "base_uri": "https://localhost:8080/"
        },
        "id": "yBySSP6kVXUB",
        "outputId": "7dab6580-ea13-47f1-8c8b-f2c3f9ba4ea7"
      },
      "outputs": [
        {
          "output_type": "stream",
          "name": "stdout",
          "text": [
            "  key  data1\n",
            "0   b      0\n",
            "1   b      1\n",
            "2   a      2\n",
            "3   c      3\n",
            "4   a      4\n",
            "5   a      5\n",
            "6   b      6\n",
            "  key  data2\n",
            "0   a      0\n",
            "1   b      1\n",
            "2   d      2\n"
          ]
        }
      ],
      "source": [
        "import pandas as pd\n",
        "\n",
        "# Create DataFrames\n",
        "df1 = pd.DataFrame({\"key\": [\"b\", \"b\", \"a\", \"c\", \"a\", \"a\", \"b\"],\n",
        "                    \"data1\": pd.Series(range(7), dtype=\"Int64\")})\n",
        "df2 = pd.DataFrame({\"key\": [\"a\", \"b\", \"d\"],\n",
        "                    \"data2\": pd.Series(range(3), dtype=\"Int64\")})\n",
        "\n",
        "# Display DataFrames\n",
        "print(df1)\n",
        "print(df2)\n"
      ]
    },
    {
      "cell_type": "code",
      "source": [
        "# Perform a merge\n",
        "merged_df = pd.merge(df1, df2)\n",
        "\n",
        "# Display the merged DataFrame\n",
        "print(merged_df)\n"
      ],
      "metadata": {
        "colab": {
          "base_uri": "https://localhost:8080/"
        },
        "id": "-WPXA9a2VoZ8",
        "outputId": "eb419035-b675-4b1c-f545-26076a37b6e4"
      },
      "execution_count": 2,
      "outputs": [
        {
          "output_type": "stream",
          "name": "stdout",
          "text": [
            "  key  data1  data2\n",
            "0   b      0      1\n",
            "1   b      1      1\n",
            "2   b      6      1\n",
            "3   a      2      0\n",
            "4   a      4      0\n",
            "5   a      5      0\n"
          ]
        }
      ]
    },
    {
      "cell_type": "markdown",
      "source": [
        "Here I am using pandas’s Int64 extension type for nullable integers, discussed in Section 7.3, “Extension Data Types\n"
      ],
      "metadata": {
        "id": "PTG1YfMVV41W"
      }
    },
    {
      "cell_type": "markdown",
      "source": [
        "This is an example of a many-to-one join; the data in df1 has multiple rows labeled a and b, whereas df2 has only one row for each value in the key column. Calling pandas.merge with these objects, we obtain:"
      ],
      "metadata": {
        "id": "7Ei8orWuV_ke"
      }
    },
    {
      "cell_type": "code",
      "source": [
        "# Perform a merge\n",
        "merged_df = pd.merge(df1, df2)\n",
        "\n",
        "# Display the merged DataFrame\n",
        "print(merged_df)\n"
      ],
      "metadata": {
        "colab": {
          "base_uri": "https://localhost:8080/"
        },
        "id": "x1hhHixOWAWh",
        "outputId": "a719a603-b409-4ded-dc93-a7dc426c9d9e"
      },
      "execution_count": 3,
      "outputs": [
        {
          "output_type": "stream",
          "name": "stdout",
          "text": [
            "  key  data1  data2\n",
            "0   b      0      1\n",
            "1   b      1      1\n",
            "2   b      6      1\n",
            "3   a      2      0\n",
            "4   a      4      0\n",
            "5   a      5      0\n"
          ]
        }
      ]
    },
    {
      "cell_type": "markdown",
      "source": [
        "Note that I didn’t specify which column to join on. If that information is not specified, pandas.merge uses the overlapping column names as the keys. It’s a good practice to specify explicitly, though:"
      ],
      "metadata": {
        "id": "WWjAM9WEWSpA"
      }
    },
    {
      "cell_type": "code",
      "source": [
        "# Perform a merge specifying the column\n",
        "merged_df = pd.merge(df1, df2, on=\"key\")\n",
        "\n",
        "# Display the merged DataFrame\n",
        "print(merged_df)"
      ],
      "metadata": {
        "colab": {
          "base_uri": "https://localhost:8080/"
        },
        "id": "OplQSzpYWNHE",
        "outputId": "e90d2cb5-0a67-474f-e439-54e829332cbe"
      },
      "execution_count": 4,
      "outputs": [
        {
          "output_type": "stream",
          "name": "stdout",
          "text": [
            "  key  data1  data2\n",
            "0   b      0      1\n",
            "1   b      1      1\n",
            "2   b      6      1\n",
            "3   a      2      0\n",
            "4   a      4      0\n",
            "5   a      5      0\n"
          ]
        }
      ]
    },
    {
      "cell_type": "markdown",
      "source": [
        "In general, the order of column output in pandas.merge operations is unspecified.\n",
        "\n",
        "If the column names are different in each object, you can specify them separately:"
      ],
      "metadata": {
        "id": "Aq-ijsRcWbwq"
      }
    },
    {
      "cell_type": "code",
      "source": [
        "# Create DataFrames with different column names\n",
        "df3 = pd.DataFrame({\"lkey\": [\"b\", \"b\", \"a\", \"c\", \"a\", \"a\", \"b\"],\n",
        "                    \"data1\": pd.Series(range(7), dtype=\"Int64\")})\n",
        "df4 = pd.DataFrame({\"rkey\": [\"a\", \"b\", \"d\"],\n",
        "                    \"data2\": pd.Series(range(3), dtype=\"Int64\")})\n",
        "\n",
        "# Perform a merge specifying different columns\n",
        "merged_df = pd.merge(df3, df4, left_on=\"lkey\", right_on=\"rkey\")\n",
        "\n",
        "# Display the merged DataFrame\n",
        "print(merged_df)\n"
      ],
      "metadata": {
        "colab": {
          "base_uri": "https://localhost:8080/"
        },
        "id": "j88E8hHWWdNA",
        "outputId": "1d632b8d-1939-475b-a8cd-88818ffe3bec"
      },
      "execution_count": 5,
      "outputs": [
        {
          "output_type": "stream",
          "name": "stdout",
          "text": [
            "  lkey  data1 rkey  data2\n",
            "0    b      0    b      1\n",
            "1    b      1    b      1\n",
            "2    b      6    b      1\n",
            "3    a      2    a      0\n",
            "4    a      4    a      0\n",
            "5    a      5    a      0\n"
          ]
        }
      ]
    },
    {
      "cell_type": "markdown",
      "source": [
        "You may notice that the \"c\" and \"d\" values and associated data are missing from the result. By default, pandas.merge does an \"inner\" join; the keys in the result are the intersection, or the common set found in both tables. Other possible options are \"left\", \"right\", and \"outer\". The outer join takes the union of the keys, combining the effect of applying both left and right joins:"
      ],
      "metadata": {
        "id": "njIoqXiSWhK2"
      }
    },
    {
      "cell_type": "code",
      "source": [
        "# Perform an outer merge\n",
        "outer_merged_df = pd.merge(df1, df2, how=\"outer\")\n",
        "\n",
        "# Display the merged DataFrame\n",
        "print(outer_merged_df)\n"
      ],
      "metadata": {
        "colab": {
          "base_uri": "https://localhost:8080/"
        },
        "id": "c5w7hjk_Wneu",
        "outputId": "017b3ad0-bcd6-433e-dad5-61bf5c761915"
      },
      "execution_count": 7,
      "outputs": [
        {
          "output_type": "stream",
          "name": "stdout",
          "text": [
            "  key  data1  data2\n",
            "0   b      0      1\n",
            "1   b      1      1\n",
            "2   b      6      1\n",
            "3   a      2      0\n",
            "4   a      4      0\n",
            "5   a      5      0\n",
            "6   c      3   <NA>\n",
            "7   d   <NA>      2\n"
          ]
        }
      ]
    },
    {
      "cell_type": "code",
      "source": [
        "# Perform an outer merge with different column names\n",
        "outer_merged_df = pd.merge(df3, df4, left_on=\"lkey\", right_on=\"rkey\", how=\"outer\")\n",
        "\n",
        "# Display the merged DataFrame\n",
        "print(outer_merged_df)\n"
      ],
      "metadata": {
        "colab": {
          "base_uri": "https://localhost:8080/"
        },
        "id": "Bshc7HaWWrmq",
        "outputId": "34499756-4bf8-4757-984c-ba0a4d5d6ddc"
      },
      "execution_count": 6,
      "outputs": [
        {
          "output_type": "stream",
          "name": "stdout",
          "text": [
            "  lkey  data1 rkey  data2\n",
            "0    b      0    b      1\n",
            "1    b      1    b      1\n",
            "2    b      6    b      1\n",
            "3    a      2    a      0\n",
            "4    a      4    a      0\n",
            "5    a      5    a      0\n",
            "6    c      3  NaN   <NA>\n",
            "7  NaN   <NA>    d      2\n"
          ]
        }
      ]
    },
    {
      "cell_type": "markdown",
      "source": [
        "In an outer join, rows from the left or right DataFrame objects that do not match on keys in the other DataFrame will appear with NA values in the other DataFrame’s columns for the nonmatching rows.\n",
        "\n",
        "See Table 8-1 for a summary of the options for how."
      ],
      "metadata": {
        "id": "dYDbR0bpWwo9"
      }
    },
    {
      "cell_type": "markdown",
      "source": [
        "Table 8-1. Different join types with the how argument\n",
        "Option\t           Behavior\n",
        "how=\"inner\"-Use only the key combinations observed in both tables\n",
        "\n",
        "how=\"left\"-Use all key combinations found in the left table\n",
        "\n",
        "how=\"right\"-\tUse all key combinations found in the right table\n",
        "\n",
        "how=\"outer\"-\tUse all key combinations observed in both tables together"
      ],
      "metadata": {
        "id": "5wQnBjbOW0g1"
      }
    },
    {
      "cell_type": "markdown",
      "source": [
        "Many-to-many merges form the Cartesian product of the matching keys. Here’s an example:"
      ],
      "metadata": {
        "id": "Jqrr08bnXGC_"
      }
    },
    {
      "cell_type": "code",
      "source": [
        "# Create DataFrames for many-to-many merge\n",
        "df1 = pd.DataFrame({\"key\": [\"b\", \"b\", \"a\", \"c\", \"a\", \"b\"],\n",
        "                    \"data1\": pd.Series(range(6), dtype=\"Int64\")})\n",
        "df2 = pd.DataFrame({\"key\": [\"a\", \"b\", \"a\", \"b\", \"d\"],\n",
        "                    \"data2\": pd.Series(range(5), dtype=\"Int64\")})\n",
        "\n",
        "# Display DataFrames\n",
        "print(df1)\n",
        "print(df2)\n"
      ],
      "metadata": {
        "colab": {
          "base_uri": "https://localhost:8080/"
        },
        "id": "mjW8ZrTeXHhe",
        "outputId": "c9df0d09-b834-4055-d15d-9d3391acf3b7"
      },
      "execution_count": 18,
      "outputs": [
        {
          "output_type": "stream",
          "name": "stdout",
          "text": [
            "  key  data1\n",
            "0   b      0\n",
            "1   b      1\n",
            "2   a      2\n",
            "3   c      3\n",
            "4   a      4\n",
            "5   b      5\n",
            "  key  data2\n",
            "0   a      0\n",
            "1   b      1\n",
            "2   a      2\n",
            "3   b      3\n",
            "4   d      4\n"
          ]
        }
      ]
    },
    {
      "cell_type": "code",
      "source": [
        "# Perform a left merge\n",
        "left_merged_df = pd.merge(df1, df2, on=\"key\", how=\"left\")\n",
        "\n",
        "# Display the merged DataFrame\n",
        "print(left_merged_df)\n"
      ],
      "metadata": {
        "colab": {
          "base_uri": "https://localhost:8080/"
        },
        "id": "ggqlRQSCXKnz",
        "outputId": "65ab6dc9-bd31-4edf-d99a-9280803f7feb"
      },
      "execution_count": 20,
      "outputs": [
        {
          "output_type": "stream",
          "name": "stdout",
          "text": [
            "   key  data1  data2\n",
            "0    b      0      1\n",
            "1    b      0      3\n",
            "2    b      1      1\n",
            "3    b      1      3\n",
            "4    a      2      0\n",
            "5    a      2      2\n",
            "6    c      3   <NA>\n",
            "7    a      4      0\n",
            "8    a      4      2\n",
            "9    b      5      1\n",
            "10   b      5      3\n"
          ]
        }
      ]
    },
    {
      "cell_type": "code",
      "source": [
        "# Perform an inner merge\n",
        "inner_merged_df = pd.merge(df1, df2, how=\"inner\")\n",
        "\n",
        "# Display the merged DataFrame\n",
        "print(inner_merged_df)\n"
      ],
      "metadata": {
        "colab": {
          "base_uri": "https://localhost:8080/"
        },
        "id": "UABzVDrzXPaO",
        "outputId": "a222c6fe-dfdc-4175-e1fd-1348058004ca"
      },
      "execution_count": 10,
      "outputs": [
        {
          "output_type": "stream",
          "name": "stdout",
          "text": [
            "  key  data1  data2\n",
            "0   b      0      1\n",
            "1   b      0      3\n",
            "2   b      1      1\n",
            "3   b      1      3\n",
            "4   b      5      1\n",
            "5   b      5      3\n",
            "6   a      2      0\n",
            "7   a      2      2\n",
            "8   a      4      0\n",
            "9   a      4      2\n"
          ]
        }
      ]
    },
    {
      "cell_type": "code",
      "source": [
        "\"Run all\""
      ],
      "metadata": {
        "colab": {
          "base_uri": "https://localhost:8080/",
          "height": 35
        },
        "id": "hE-OtziVfd_a",
        "outputId": "501e7c1d-ce65-4dc9-85b7-2b8d6d504349"
      },
      "execution_count": 22,
      "outputs": [
        {
          "output_type": "execute_result",
          "data": {
            "text/plain": [
              "'Run all'"
            ],
            "application/vnd.google.colaboratory.intrinsic+json": {
              "type": "string"
            }
          },
          "metadata": {},
          "execution_count": 22
        }
      ]
    },
    {
      "cell_type": "code",
      "source": [
        "import os\n",
        "print(os.getcwd())\n"
      ],
      "metadata": {
        "colab": {
          "base_uri": "https://localhost:8080/"
        },
        "id": "TMhtgIgwgWFq",
        "outputId": "024644e0-5e7b-415d-b5d7-cee45874c3f9"
      },
      "execution_count": 23,
      "outputs": [
        {
          "output_type": "stream",
          "name": "stdout",
          "text": [
            "/content\n"
          ]
        }
      ]
    }
  ]
}